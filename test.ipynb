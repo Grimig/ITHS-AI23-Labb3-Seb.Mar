{
 "cells": [
  {
   "cell_type": "code",
   "execution_count": 5,
   "metadata": {},
   "outputs": [
    {
     "name": "stdout",
     "output_type": "stream",
     "text": [
      "15\n"
     ]
    }
   ],
   "source": [
    "from rectangle import Rectangle\n",
    "\n",
    "shape = Rectangle(x=5, y=0, width=3, height=5)\n",
    "\n",
    "area = shape.area\n",
    "\n",
    "print(area)\n"
   ]
  },
  {
   "cell_type": "code",
   "execution_count": 7,
   "metadata": {},
   "outputs": [
    {
     "name": "stdout",
     "output_type": "stream",
     "text": [
      "\n",
      "        Rectangle (x=5, y=0,\n",
      "        width=3, height=5)\n",
      "        \n",
      "Rectangle (x=5, y=0), Width=3, Height=5, Area=15, Perimeter=16\n"
     ]
    }
   ],
   "source": [
    "print(repr(shape))\n",
    "print(str(shape))\n"
   ]
  },
  {
   "cell_type": "code",
   "execution_count": 14,
   "metadata": {},
   "outputs": [
    {
     "ename": "NameError",
     "evalue": "name 'GeometricShape' is not defined",
     "output_type": "error",
     "traceback": [
      "\u001b[1;31m---------------------------------------------------------------------------\u001b[0m",
      "\u001b[1;31mNameError\u001b[0m                                 Traceback (most recent call last)",
      "\u001b[1;32mc:\\Users\\Seb\\Desktop\\Labb3\\ITHS-AI23-Labb3-Seb.Mar\\test.ipynb Cell 3\u001b[0m line \u001b[0;36m2\n\u001b[0;32m      <a href='vscode-notebook-cell:/c%3A/Users/Seb/Desktop/Labb3/ITHS-AI23-Labb3-Seb.Mar/test.ipynb#W2sZmlsZQ%3D%3D?line=0'>1</a>\u001b[0m \u001b[39m# Create a GeometricShape instance\u001b[39;00m\n\u001b[1;32m----> <a href='vscode-notebook-cell:/c%3A/Users/Seb/Desktop/Labb3/ITHS-AI23-Labb3-Seb.Mar/test.ipynb#W2sZmlsZQ%3D%3D?line=1'>2</a>\u001b[0m shape \u001b[39m=\u001b[39m GeometricShape(x\u001b[39m=\u001b[39m\u001b[39m3\u001b[39m, y\u001b[39m=\u001b[39m\u001b[39m4\u001b[39m, width\u001b[39m=\u001b[39m\u001b[39m5\u001b[39m, height\u001b[39m=\u001b[39m\u001b[39m6\u001b[39m)\n\u001b[0;32m      <a href='vscode-notebook-cell:/c%3A/Users/Seb/Desktop/Labb3/ITHS-AI23-Labb3-Seb.Mar/test.ipynb#W2sZmlsZQ%3D%3D?line=3'>4</a>\u001b[0m \u001b[39m# Display the initial position\u001b[39;00m\n\u001b[0;32m      <a href='vscode-notebook-cell:/c%3A/Users/Seb/Desktop/Labb3/ITHS-AI23-Labb3-Seb.Mar/test.ipynb#W2sZmlsZQ%3D%3D?line=4'>5</a>\u001b[0m \u001b[39mprint\u001b[39m(\u001b[39mf\u001b[39m\u001b[39m\"\u001b[39m\u001b[39mInitial Position: x=\u001b[39m\u001b[39m{\u001b[39;00mshape\u001b[39m.\u001b[39mx\u001b[39m}\u001b[39;00m\u001b[39m, y=\u001b[39m\u001b[39m{\u001b[39;00mshape\u001b[39m.\u001b[39my\u001b[39m}\u001b[39;00m\u001b[39m\"\u001b[39m)\n",
      "\u001b[1;31mNameError\u001b[0m: name 'GeometricShape' is not defined"
     ]
    }
   ],
   "source": [
    "# Create a GeometricShape instance\n",
    "shape = rectangle\n",
    "# Display the initial position\n",
    "print(f\"Initial Position: x={shape.x}, y={shape.y}\")\n",
    "\n",
    "# Move the shape by dx=2 and dy=-1\n",
    "shape.translate(dx=2, dy=-1)\n",
    "\n",
    "# Display the updated position\n",
    "print(f\"Updated Position: x={shape.x}, y={shape.y}\")\n"
   ]
  }
 ],
 "metadata": {
  "kernelspec": {
   "display_name": "Python 3",
   "language": "python",
   "name": "python3"
  },
  "language_info": {
   "codemirror_mode": {
    "name": "ipython",
    "version": 3
   },
   "file_extension": ".py",
   "mimetype": "text/x-python",
   "name": "python",
   "nbconvert_exporter": "python",
   "pygments_lexer": "ipython3",
   "version": "3.10.6"
  }
 },
 "nbformat": 4,
 "nbformat_minor": 2
}
