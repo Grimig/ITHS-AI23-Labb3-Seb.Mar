{
 "cells": [
  {
   "cell_type": "code",
   "execution_count": 11,
   "metadata": {},
   "outputs": [
    {
     "name": "stdout",
     "output_type": "stream",
     "text": [
      "15\n"
     ]
    }
   ],
   "source": [
    "from rectangle import Rectangle\n",
    "\n",
    "shape = Rectangle(x=0, y=0, width=3, height=5)\n",
    "\n",
    "area = shape.area\n",
    "\n",
    "print(area)\n"
   ]
  },
  {
   "cell_type": "code",
   "execution_count": 12,
   "metadata": {},
   "outputs": [
    {
     "name": "stdout",
     "output_type": "stream",
     "text": [
      "Rectangle: (Position: x=0, Position: y=0, width=3, height=5)\n",
      "Rectangle (x=0, y=0), Width=3, Height=5, Area=15, Perimeter=16\n"
     ]
    }
   ],
   "source": [
    "print(repr(shape))\n",
    "print(str(shape))\n"
   ]
  },
  {
   "cell_type": "code",
   "execution_count": 13,
   "metadata": {},
   "outputs": [
    {
     "name": "stdout",
     "output_type": "stream",
     "text": [
      "Initial Position: x=0, y=0\n"
     ]
    }
   ],
   "source": [
    "import matplotlib.pyplot as plt\n",
    "# Display the initial position\n",
    "print(f\"Initial Position: x={shape.x}, y={shape.y}\")\n",
    "\n",
    "# Move the shape by dx=2 and dy=-1\n",
    "shape.translate(dx=-2, dy=-2)\n",
    "\n",
    "#plotliblek\n"
   ]
  },
  {
   "cell_type": "code",
   "execution_count": 15,
   "metadata": {},
   "outputs": [
    {
     "name": "stdout",
     "output_type": "stream",
     "text": [
      "The point (55, 22) is outside the rectangle.\n"
     ]
    }
   ],
   "source": [
    "# Create a GeometricShape instance (a rectangle)\n",
    "rectangle = Rectangle(x=2, y=3, width=5, height=4)\n",
    "\n",
    "# Check if a point is inside the rectangle\n",
    "point_x = 55\n",
    "point_y = 22\n",
    "is_inside = rectangle.is_point_inside(point_x, point_y)\n",
    "\n",
    "if is_inside:\n",
    "    print(f\"The point ({point_x}, {point_y}) is inside the rectangle.\")\n",
    "else:\n",
    "    print(f\"The point ({point_x}, {point_y}) is outside the rectangle.\")\n"
   ]
  }
 ],
 "metadata": {
  "kernelspec": {
   "display_name": "Python 3",
   "language": "python",
   "name": "python3"
  },
  "language_info": {
   "codemirror_mode": {
    "name": "ipython",
    "version": 3
   },
   "file_extension": ".py",
   "mimetype": "text/x-python",
   "name": "python",
   "nbconvert_exporter": "python",
   "pygments_lexer": "ipython3",
   "version": "3.10.6"
  }
 },
 "nbformat": 4,
 "nbformat_minor": 2
}
