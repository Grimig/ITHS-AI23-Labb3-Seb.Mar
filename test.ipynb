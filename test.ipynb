{
 "cells": [
  {
   "cell_type": "code",
   "execution_count": 9,
   "metadata": {},
   "outputs": [
    {
     "ename": "TypeError",
     "evalue": "'int' object is not callable",
     "output_type": "error",
     "traceback": [
      "\u001b[1;31m---------------------------------------------------------------------------\u001b[0m",
      "\u001b[1;31mTypeError\u001b[0m                                 Traceback (most recent call last)",
      "\u001b[1;32mc:\\Users\\Seb\\Desktop\\Labb3\\ITHS-AI23-Labb3-Seb.Mar\\test.ipynb Cell 1\u001b[0m line \u001b[0;36m9\n\u001b[0;32m      <a href='vscode-notebook-cell:/c%3A/Users/Seb/Desktop/Labb3/ITHS-AI23-Labb3-Seb.Mar/test.ipynb#W0sZmlsZQ%3D%3D?line=5'>6</a>\u001b[0m circle \u001b[39m=\u001b[39m Circle(x\u001b[39m=\u001b[39m\u001b[39m2\u001b[39m, y\u001b[39m=\u001b[39m\u001b[39m5\u001b[39m, radius\u001b[39m=\u001b[39m\u001b[39m5\u001b[39m)\n\u001b[0;32m      <a href='vscode-notebook-cell:/c%3A/Users/Seb/Desktop/Labb3/ITHS-AI23-Labb3-Seb.Mar/test.ipynb#W0sZmlsZQ%3D%3D?line=6'>7</a>\u001b[0m rectangle \u001b[39m=\u001b[39m Rectangle(x\u001b[39m=\u001b[39m\u001b[39m2\u001b[39m, y\u001b[39m=\u001b[39m\u001b[39m5\u001b[39m, width\u001b[39m=\u001b[39m\u001b[39m3\u001b[39m, height\u001b[39m=\u001b[39m\u001b[39m5\u001b[39m)\n\u001b[1;32m----> <a href='vscode-notebook-cell:/c%3A/Users/Seb/Desktop/Labb3/ITHS-AI23-Labb3-Seb.Mar/test.ipynb#W0sZmlsZQ%3D%3D?line=8'>9</a>\u001b[0m \u001b[39mprint\u001b[39m(rectangle\u001b[39m.\u001b[39;49marea())\n",
      "\u001b[1;31mTypeError\u001b[0m: 'int' object is not callable"
     ]
    }
   ],
   "source": [
    "from rectangle import Rectangle\n",
    "from circle import Circle\n",
    "\n",
    "\n",
    "\n",
    "circle = Circle(x=2, y=5, radius=5)\n",
    "rectangle = Rectangle(x=2, y=5, width=3, height=5)\n",
    "\n",
    "print(rectangle.area())\n"
   ]
  },
  {
   "cell_type": "code",
   "execution_count": 11,
   "metadata": {},
   "outputs": [
    {
     "name": "stdout",
     "output_type": "stream",
     "text": [
      "(x=2, y=5, radius=5)\n",
      "\n",
      "(x=2, y=5), Radius=5, Area=78.53981633974483, Circumference=31.41592653589793\n",
      "\n",
      "\n",
      "Rectangle: (Position: x=2, Position: y=5, width=3, height=5)\n",
      "\n",
      "Rectangle (x=2, y=5), Width=3, Height=5, Area=15, Perimeter=16\n",
      "\n",
      "True\n"
     ]
    }
   ],
   "source": [
    "print(repr(circle)+\"\\n\")\n",
    "print(str(circle)+\"\\n\"\"\\n\")\n",
    "\n",
    "print(repr(rectangle)+\"\\n\")\n",
    "\n",
    "print(str(rectangle)+\"\\n\")\n"
   ]
  },
  {
   "cell_type": "code",
   "execution_count": 3,
   "metadata": {},
   "outputs": [
    {
     "name": "stdout",
     "output_type": "stream",
     "text": [
      "Circle Position: x=0, y=3\n",
      "\n",
      "Rectangle Position: x=1, y=3\n"
     ]
    }
   ],
   "source": [
    "import matplotlib.pyplot as plt\n",
    "# Move the shape by dx=2 and dy=-1\n",
    "rectangle.translate(dx=-1, dy=-2)\n",
    "circle.translate(dx=-2, dy=-2)\n",
    "\n",
    "# Display the initial position\n",
    "print(f\"Circle Position: x={circle.x}, y={circle.y}\" + \"\\n\")\n",
    "print(f\"Rectangle Position: x={rectangle.x}, y={rectangle.y}\")\n",
    "#plotliblek\n"
   ]
  },
  {
   "cell_type": "code",
   "execution_count": 4,
   "metadata": {},
   "outputs": [
    {
     "name": "stdout",
     "output_type": "stream",
     "text": [
      "Position: x=1, y=3\n",
      "The point (55, 22) is outside the rectangle.\n"
     ]
    }
   ],
   "source": [
    "print(f\"Position: x={rectangle.x}, y={rectangle.y}\")\n",
    "# Check if a point is inside the rectangle\n",
    "point_x = 55\n",
    "point_y = 22\n",
    "is_inside = rectangle.is_point_inside(point_x, point_y)\n",
    "\n",
    "if is_inside:\n",
    "    print(f\"The point ({point_x}, {point_y}) is inside the rectangle.\")\n",
    "else:\n",
    "    print(f\"The point ({point_x}, {point_y}) is outside the rectangle.\")\n"
   ]
  }
 ],
 "metadata": {
  "kernelspec": {
   "display_name": "Python 3",
   "language": "python",
   "name": "python3"
  },
  "language_info": {
   "codemirror_mode": {
    "name": "ipython",
    "version": 3
   },
   "file_extension": ".py",
   "mimetype": "text/x-python",
   "name": "python",
   "nbconvert_exporter": "python",
   "pygments_lexer": "ipython3",
   "version": "3.10.6"
  }
 },
 "nbformat": 4,
 "nbformat_minor": 2
}
