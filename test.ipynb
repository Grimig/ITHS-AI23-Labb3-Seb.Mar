{
 "cells": [
  {
   "cell_type": "code",
   "execution_count": null,
   "metadata": {},
   "outputs": [],
   "source": [
    "from rectangle import Rectangle\n",
    "from circle import Circle\n",
    "\n",
    "cirkel1 = Circle(x=0,y=0, radius=1)\n",
    "\n",
    "cirkel2 = Circle(x=1,y=1, radius=1)\n",
    "\n",
    "rektangel = Rectangle(x=0,y=0,width=1, height=2)\n",
    "\n",
    "print(cirkel1==cirkel2) # True\n",
    "\n",
    "#print(cirkel2==rektangel) # False\n",
    "\n",
    "print(cirkel1.is_inside(0.5, 0.5)) # True\n",
    "\n",
    "cirkel1.translate(5,5)\n",
    "\n",
    "#cirkel1.translate(\"TRE\",5) # ge ValueError med lämplig kommentar\n"
   ]
  },
  {
   "cell_type": "code",
   "execution_count": null,
   "metadata": {},
   "outputs": [],
   "source": [
    "from rectangle import Rectangle\n",
    "from circle import Circle\n",
    "\n",
    "rectangle = Rectangle(4, 10, 5, 5)\n",
    "circle = Circle(3, 1, 1)\n",
    "print(rectangle.is_inside(1, 1))\n",
    "print(circle.is_inside(1, 1))\n",
    "\n",
    "\n",
    "\n",
    "rect1 = Rectangle(x=0, y=0, width=2, height=4)\n",
    "is_square = rect1.is_square\n",
    "#print(is_square) #false\n",
    "\n",
    "\n"
   ]
  },
  {
   "cell_type": "code",
   "execution_count": null,
   "metadata": {},
   "outputs": [],
   "source": [
    "print(repr(circle)+\"\\n\")\n",
    "print(str(circle)+\"\\n\"\"\\n\")\n",
    "\n",
    "print(repr(rectangle)+\"\\n\")\n",
    "\n",
    "print(str(rectangle)+\"\\n\")\n"
   ]
  },
  {
   "cell_type": "code",
   "execution_count": null,
   "metadata": {},
   "outputs": [],
   "source": [
    "import matplotlib.pyplot as plt\n",
    "# test increasing width and height\n",
    "circle.translate(dx=-2, dy=-2)\n",
    "# test decreasing width and height\n",
    "rectangle.translate(dx=-1, dy=-2)\n",
    "\n",
    "# Display the initial position\n",
    "print(f\"Circle Position: x={circle.x}, y={circle.y}\" + \"\\n\")\n",
    "print(f\"Rectangle Position: x={rectangle.x}, y={rectangle.y}\")\n",
    "#plotliblek\n"
   ]
  },
  {
   "cell_type": "code",
   "execution_count": null,
   "metadata": {},
   "outputs": [],
   "source": []
  }
 ],
 "metadata": {
  "kernelspec": {
   "display_name": "Python 3",
   "language": "python",
   "name": "python3"
  },
  "language_info": {
   "codemirror_mode": {
    "name": "ipython",
    "version": 3
   },
   "file_extension": ".py",
   "mimetype": "text/x-python",
   "name": "python",
   "nbconvert_exporter": "python",
   "pygments_lexer": "ipython3",
   "version": "3.10.6"
  }
 },
 "nbformat": 4,
 "nbformat_minor": 2
}
